{
 "cells": [
  {
   "cell_type": "code",
   "execution_count": 37,
   "id": "54310196-85ba-46ee-a571-a089be5e2aaf",
   "metadata": {},
   "outputs": [
    {
     "name": "stdout",
     "output_type": "stream",
     "text": [
      "Found existing installation: kfp 2.9.0\n",
      "Uninstalling kfp-2.9.0:\n",
      "  Successfully uninstalled kfp-2.9.0\n",
      "\u001b[33mWARNING: Running pip as the 'root' user can result in broken permissions and conflicting behaviour with the system package manager, possibly rendering your system unusable. It is recommended to use a virtual environment instead: https://pip.pypa.io/warnings/venv. Use the --root-user-action option if you know what you are doing and want to suppress this warning.\u001b[0m\u001b[33m\n",
      "Collecting kfp==2.9.0\n",
      "  Using cached kfp-2.9.0-py3-none-any.whl\n",
      "Requirement already satisfied: click<9,>=8.0.0 in /usr/local/lib/python3.11/site-packages (from kfp==2.9.0) (8.1.8)\n",
      "Requirement already satisfied: docstring-parser<1,>=0.7.3 in /usr/local/lib/python3.11/site-packages (from kfp==2.9.0) (0.16)\n",
      "Requirement already satisfied: google-api-core!=2.0.*,!=2.1.*,!=2.2.*,!=2.3.0,<3.0.0dev,>=1.31.5 in /usr/local/lib/python3.11/site-packages (from kfp==2.9.0) (2.24.1)\n",
      "Requirement already satisfied: google-auth<3,>=1.6.1 in /usr/local/lib/python3.11/site-packages (from kfp==2.9.0) (2.38.0)\n",
      "Requirement already satisfied: google-cloud-storage<3,>=2.2.1 in /usr/local/lib/python3.11/site-packages (from kfp==2.9.0) (2.19.0)\n",
      "Requirement already satisfied: kfp-pipeline-spec==0.4.0 in /usr/local/lib/python3.11/site-packages (from kfp==2.9.0) (0.4.0)\n",
      "Requirement already satisfied: kfp-server-api<2.4.0,>=2.1.0 in /usr/local/lib/python3.11/site-packages (from kfp==2.9.0) (2.3.0)\n",
      "Requirement already satisfied: kubernetes<31,>=8.0.0 in /usr/local/lib/python3.11/site-packages (from kfp==2.9.0) (25.3.0)\n",
      "Requirement already satisfied: protobuf<5,>=4.21.1 in /usr/local/lib/python3.11/site-packages (from kfp==2.9.0) (4.25.7)\n",
      "Requirement already satisfied: PyYAML<7,>=5.3 in /usr/local/lib/python3.11/site-packages (from kfp==2.9.0) (6.0.2)\n",
      "Requirement already satisfied: requests-toolbelt<1,>=0.8.0 in /usr/local/lib/python3.11/site-packages (from kfp==2.9.0) (0.10.1)\n",
      "Requirement already satisfied: tabulate<1,>=0.8.6 in /usr/local/lib/python3.11/site-packages (from kfp==2.9.0) (0.9.0)\n",
      "Requirement already satisfied: urllib3<2.0.0 in /usr/local/lib/python3.11/site-packages (from kfp==2.9.0) (1.26.20)\n",
      "Requirement already satisfied: googleapis-common-protos<2.0.dev0,>=1.56.2 in /usr/local/lib/python3.11/site-packages (from google-api-core!=2.0.*,!=2.1.*,!=2.2.*,!=2.3.0,<3.0.0dev,>=1.31.5->kfp==2.9.0) (1.68.0)\n",
      "Requirement already satisfied: proto-plus<2.0.0dev,>=1.22.3 in /usr/local/lib/python3.11/site-packages (from google-api-core!=2.0.*,!=2.1.*,!=2.2.*,!=2.3.0,<3.0.0dev,>=1.31.5->kfp==2.9.0) (1.26.0)\n",
      "Requirement already satisfied: requests<3.0.0.dev0,>=2.18.0 in /usr/local/lib/python3.11/site-packages (from google-api-core!=2.0.*,!=2.1.*,!=2.2.*,!=2.3.0,<3.0.0dev,>=1.31.5->kfp==2.9.0) (2.32.3)\n",
      "Requirement already satisfied: cachetools<6.0,>=2.0.0 in /usr/local/lib/python3.11/site-packages (from google-auth<3,>=1.6.1->kfp==2.9.0) (5.5.2)\n",
      "Requirement already satisfied: pyasn1-modules>=0.2.1 in /usr/local/lib/python3.11/site-packages (from google-auth<3,>=1.6.1->kfp==2.9.0) (0.4.1)\n",
      "Requirement already satisfied: rsa<5,>=3.1.4 in /usr/local/lib/python3.11/site-packages (from google-auth<3,>=1.6.1->kfp==2.9.0) (4.9)\n",
      "Requirement already satisfied: google-cloud-core<3.0dev,>=2.3.0 in /usr/local/lib/python3.11/site-packages (from google-cloud-storage<3,>=2.2.1->kfp==2.9.0) (2.4.2)\n",
      "Requirement already satisfied: google-resumable-media>=2.7.2 in /usr/local/lib/python3.11/site-packages (from google-cloud-storage<3,>=2.2.1->kfp==2.9.0) (2.7.2)\n",
      "Requirement already satisfied: google-crc32c<2.0dev,>=1.0 in /usr/local/lib/python3.11/site-packages (from google-cloud-storage<3,>=2.2.1->kfp==2.9.0) (1.6.0)\n",
      "Requirement already satisfied: six>=1.10 in /usr/local/lib/python3.11/site-packages (from kfp-server-api<2.4.0,>=2.1.0->kfp==2.9.0) (1.17.0)\n",
      "Requirement already satisfied: certifi in /usr/local/lib/python3.11/site-packages (from kfp-server-api<2.4.0,>=2.1.0->kfp==2.9.0) (2025.1.31)\n",
      "Requirement already satisfied: python-dateutil in /usr/local/lib/python3.11/site-packages (from kfp-server-api<2.4.0,>=2.1.0->kfp==2.9.0) (2.9.0.post0)\n",
      "Requirement already satisfied: setuptools>=21.0.0 in /usr/local/lib/python3.11/site-packages (from kubernetes<31,>=8.0.0->kfp==2.9.0) (65.5.1)\n",
      "Requirement already satisfied: websocket-client!=0.40.0,!=0.41.*,!=0.42.*,>=0.32.0 in /usr/local/lib/python3.11/site-packages (from kubernetes<31,>=8.0.0->kfp==2.9.0) (1.8.0)\n",
      "Requirement already satisfied: requests-oauthlib in /usr/local/lib/python3.11/site-packages (from kubernetes<31,>=8.0.0->kfp==2.9.0) (2.0.0)\n",
      "Requirement already satisfied: charset-normalizer<4,>=2 in /usr/local/lib/python3.11/site-packages (from requests<3.0.0.dev0,>=2.18.0->google-api-core!=2.0.*,!=2.1.*,!=2.2.*,!=2.3.0,<3.0.0dev,>=1.31.5->kfp==2.9.0) (3.4.1)\n",
      "Requirement already satisfied: idna<4,>=2.5 in /usr/local/lib/python3.11/site-packages (from requests<3.0.0.dev0,>=2.18.0->google-api-core!=2.0.*,!=2.1.*,!=2.2.*,!=2.3.0,<3.0.0dev,>=1.31.5->kfp==2.9.0) (3.10)\n",
      "Requirement already satisfied: pyasn1>=0.1.3 in /usr/local/lib/python3.11/site-packages (from rsa<5,>=3.1.4->google-auth<3,>=1.6.1->kfp==2.9.0) (0.6.1)\n",
      "Requirement already satisfied: oauthlib>=3.0.0 in /usr/local/lib/python3.11/site-packages (from requests-oauthlib->kubernetes<31,>=8.0.0->kfp==2.9.0) (3.2.2)\n",
      "Installing collected packages: kfp\n",
      "Successfully installed kfp-2.9.0\n",
      "\u001b[33mWARNING: Running pip as the 'root' user can result in broken permissions and conflicting behaviour with the system package manager, possibly rendering your system unusable. It is recommended to use a virtual environment instead: https://pip.pypa.io/warnings/venv. Use the --root-user-action option if you know what you are doing and want to suppress this warning.\u001b[0m\u001b[33m\n",
      "KFP version → 2.9.0\n"
     ]
    }
   ],
   "source": [
    "# !pip install --upgrade \"kfp==2.0.1\"  --quiet\n",
    "# # 重新启动 kernel，再 import\n",
    "# %pip install --quiet --upgrade \"kfp==2.0.1\"\n",
    "\n",
    "\n",
    "!pip uninstall -y kfp\n",
    "!pip install 'kfp==2.9.0'\n",
    "# !pip uninstall -y kfp\n",
    "# !pip install 'kfp==1.8.22'\n",
    "\n",
    "import kfp, sys\n",
    "\n",
    "print(\"KFP version →\", kfp.__version__)"
   ]
  },
  {
   "cell_type": "code",
   "execution_count": 44,
   "id": "996bc99f-e306-4016-98ab-9a1bf9680cd8",
   "metadata": {},
   "outputs": [
    {
     "name": "stdout",
     "output_type": "stream",
     "text": [
      "✅ drift_demo_v4.yaml 已生成\n"
     ]
    }
   ],
   "source": [
    "# section 1\n",
    "from kfp import compiler\n",
    "from pipeline.pipeline import drift_demo_pipeline\n",
    "\n",
    "compiler.Compiler().compile(\n",
    "    pipeline_func=drift_demo_pipeline,\n",
    "    package_path='drift_demo_v4.yaml'\n",
    ")\n",
    "print(\"✅ drift_demo_v4.yaml 已生成\")\n",
    "\n"
   ]
  },
  {
   "cell_type": "code",
   "execution_count": 45,
   "id": "ab6a9ef0-9b78-4b18-a7a9-0cd97bcadeea",
   "metadata": {},
   "outputs": [
    {
     "name": "stdout",
     "output_type": "stream",
     "text": [
      "现有实验： ['Latency-Pipeline-Experiment', 'Default', 'auto_digits_pipeline_half_simplified', 'auto_digits_pipeline_demo2', 'katib-test0', 'katib-flux-demo', 'twin-stream', 'trial-exp', 'drift-detect-demo-exp', 'drift-detect-demo-v2-exp']\n"
     ]
    }
   ],
   "source": [
    "# # section 3\n",
    "# token = os.environ[\"MY_TOKEN\"]\n",
    "# client = kfp.Client(\n",
    "#     host=\"http://45.149.207.13:38183/pipeline\",\n",
    "#     existing_token=token,\n",
    "#     namespace=\"kubeflow\"\n",
    "# )\n",
    "\n",
    "# # 验证能否列出实验\n",
    "# print(client.list_experiments().experiments)\n",
    "\n",
    "import time\n",
    "import kfp\n",
    "from kfp_server_api.exceptions import ApiException\n",
    "\n",
    "# 不指定 host，使用默认 in-cluster 服务\n",
    "client = kfp.Client()\n",
    "\n",
    "\n",
    "# print(client.list_experiments().experiments)\n",
    "# 3. 列出已有实验\n",
    "experiments = client.list_experiments().experiments\n",
    "print(\"现有实验：\", [e.display_name for e in experiments])"
   ]
  },
  {
   "cell_type": "code",
   "execution_count": 47,
   "id": "6057729c-e0e2-4b23-8810-043df0082018",
   "metadata": {},
   "outputs": [
    {
     "name": "stdout",
     "output_type": "stream",
     "text": [
      "⚠️ Pipeline 重名，复用已有 ID = cd24c421-f90e-4070-adc1-aca19e3e5720\n"
     ]
    },
    {
     "data": {
      "text/html": [
       "<a href=\"/pipeline/#/experiments/details/330cb232-c0e6-46c8-9a9b-6e733007bd56\" target=\"_blank\" >Experiment details</a>."
      ],
      "text/plain": [
       "<IPython.core.display.HTML object>"
      ]
     },
     "metadata": {},
     "output_type": "display_data"
    },
    {
     "data": {
      "text/html": [
       "<a href=\"/pipeline/#/runs/details/5349867b-eea9-4cf6-ba06-b6811b5417ca\" target=\"_blank\" >Run details</a>."
      ],
      "text/plain": [
       "<IPython.core.display.HTML object>"
      ]
     },
     "metadata": {},
     "output_type": "display_data"
    },
    {
     "name": "stdout",
     "output_type": "stream",
     "text": [
      "▶️ Run 已提交\n",
      "Run ID  = 5349867b-eea9-4cf6-ba06-b6811b5417ca\n",
      "Run URL = /pipeline/#/runs/details/5349867b-eea9-4cf6-ba06-b6811b5417ca\n"
     ]
    }
   ],
   "source": [
    "import time\n",
    "import os\n",
    "from kfp import Client\n",
    "from kfp_server_api.exceptions import ApiException\n",
    "\n",
    "# 1. 初始化客户端（in-cluster 模式会自动挂载 ServiceAccount Token）\n",
    "client = kfp.Client()\n",
    "\n",
    "# 2. 幂等上传或复用已有的 Pipeline ID\n",
    "pipeline_name = \"drift-detect-demo-v4\"\n",
    "yaml_path = \"drift_demo_v4.yaml\"\n",
    "\n",
    "try:\n",
    "    # 上传新的 Pipeline（若不存在）\n",
    "    pipeline_id = client.upload_pipeline(\n",
    "        pipeline_package_path=yaml_path,\n",
    "        pipeline_name=pipeline_name\n",
    "    ).pipeline_id\n",
    "    print(f\"✅ 已上传新 Pipeline，ID = {pipeline_id}\")\n",
    "except ApiException as e:\n",
    "    if e.status == 409:\n",
    "        # 如果已经存在同名 Pipeline，复用其 ID\n",
    "        pipeline_id = client.get_pipeline_id(pipeline_name)\n",
    "        print(f\"⚠️ Pipeline 重名，复用已有 ID = {pipeline_id}\")\n",
    "    else:\n",
    "        # 其他异常继续抛出\n",
    "        raise\n",
    "\n",
    "# 3. 提交一个新的 Run\n",
    "run_name = f\"{pipeline_name}-run-{int(time.time())}\"\n",
    "run_result = client.create_run_from_pipeline_package(\n",
    "    pipeline_file=yaml_path,\n",
    "    arguments={},               # 若有参数则填入字典\n",
    "    run_name=run_name,\n",
    "    experiment_name=pipeline_name + \"-exp\",  # 可根据需求指定 Experiment 名称\n",
    "    enable_caching=False  # ← 关闭整个 Run 的缓存\n",
    ")\n",
    "\n",
    "print(\"▶️ Run 已提交\")\n",
    "print(\"Run ID  =\", run_result.run_id)\n",
    "print(\"Run URL =\", f\"{client._get_url_prefix()}/#/runs/details/{run_result.run_id}\")\n"
   ]
  },
  {
   "cell_type": "code",
   "execution_count": null,
   "id": "dc89b47d-2d70-4d27-a9a8-e04888e2276c",
   "metadata": {},
   "outputs": [],
   "source": [
    "import time\n",
    "from kfp import Client\n",
    "\n",
    "client = kfp.Client()\n",
    "\n",
    "# 1. 上传或复用已有 pipeline_id（略过重复代码）\n",
    "pipeline_id = \"你前面拿到的 pipeline_id\"\n",
    "\n",
    "# 2. 提交 Run\n",
    "run_result = client.create_run_from_pipeline_package(\n",
    "    pipeline_file=\"drift_demo.yaml\",\n",
    "    arguments={},  \n",
    "    run_name=f\"drift-demo-{int(time.time())}\",\n",
    "    experiment_name=\"drift-detect-demo-exp\"\n",
    ")\n",
    "\n",
    "print(\"Run ID:\", run_result.run_id)\n",
    "print(\"Run URL:\", f\"{client._get_url_prefix()}/#/runs/details/{run_result.run_id}\")\n"
   ]
  },
  {
   "cell_type": "code",
   "execution_count": 26,
   "id": "d3dbfc78-09e9-44ea-a32c-b32bfe2e016d",
   "metadata": {},
   "outputs": [
    {
     "data": {
      "text/html": [
       "<a href=\"/pipeline/#/pipelines/details/17384570-315b-4c40-a33a-a9f820a83749\" target=\"_blank\" >Pipeline details</a>."
      ],
      "text/plain": [
       "<IPython.core.display.HTML object>"
      ]
     },
     "metadata": {},
     "output_type": "display_data"
    },
    {
     "ename": "AttributeError",
     "evalue": "'V2beta1Pipeline' object has no attribute 'id'",
     "output_type": "error",
     "traceback": [
      "\u001b[31m---------------------------------------------------------------------------\u001b[39m",
      "\u001b[31mAttributeError\u001b[39m                            Traceback (most recent call last)",
      "\u001b[36mCell\u001b[39m\u001b[36m \u001b[39m\u001b[32mIn[26]\u001b[39m\u001b[32m, line 15\u001b[39m\n\u001b[32m      2\u001b[39m \u001b[38;5;28;01mimport\u001b[39;00m\u001b[38;5;250m \u001b[39m\u001b[34;01mkfp\u001b[39;00m\n\u001b[32m      3\u001b[39m \u001b[38;5;66;03m# client = kfp.Client(\u001b[39;00m\n\u001b[32m      4\u001b[39m \u001b[38;5;66;03m#     host=\"http://45.149.207.13:38183/pipeline\",\u001b[39;00m\n\u001b[32m      5\u001b[39m \u001b[38;5;66;03m#     existing_token=MY_TOKEN,\u001b[39;00m\n\u001b[32m   (...)\u001b[39m\u001b[32m     10\u001b[39m \n\u001b[32m     11\u001b[39m \u001b[38;5;66;03m# upload pipeline (IDempotent)\u001b[39;00m\n\u001b[32m     12\u001b[39m pipeline_id = \u001b[43mclient\u001b[49m\u001b[43m.\u001b[49m\u001b[43mupload_pipeline\u001b[49m\u001b[43m(\u001b[49m\n\u001b[32m     13\u001b[39m \u001b[43m    \u001b[49m\u001b[43mpipeline_package_path\u001b[49m\u001b[43m=\u001b[49m\u001b[33;43m\"\u001b[39;49m\u001b[33;43mdrift_demo.yaml\u001b[39;49m\u001b[33;43m\"\u001b[39;49m\u001b[43m,\u001b[49m\n\u001b[32m     14\u001b[39m \u001b[43m    \u001b[49m\u001b[43mpipeline_name\u001b[49m\u001b[43m=\u001b[49m\u001b[33;43m\"\u001b[39;49m\u001b[33;43mdrift-detect-demo\u001b[39;49m\u001b[33;43m\"\u001b[39;49m\n\u001b[32m---> \u001b[39m\u001b[32m15\u001b[39m \u001b[43m)\u001b[49m\u001b[43m.\u001b[49m\u001b[43mid\u001b[49m\n\u001b[32m     17\u001b[39m \u001b[38;5;66;03m# kick off a run\u001b[39;00m\n\u001b[32m     18\u001b[39m run = client.create_run_from_pipeline_id(\n\u001b[32m     19\u001b[39m     pipeline_id=pipeline_id,\n\u001b[32m     20\u001b[39m     run_name=\u001b[33m\"\u001b[39m\u001b[33mdrift-demo-run\u001b[39m\u001b[33m\"\u001b[39m\n\u001b[32m     21\u001b[39m )\n",
      "\u001b[31mAttributeError\u001b[39m: 'V2beta1Pipeline' object has no attribute 'id'"
     ]
    }
   ],
   "source": [
    "# section 4\n",
    "import kfp\n",
    "# client = kfp.Client(\n",
    "#     host=\"http://45.149.207.13:38183/pipeline\",\n",
    "#     existing_token=MY_TOKEN,\n",
    "#     namespace=\"kubeflow\"        # 默认都填 kubeflow\n",
    "# )\n",
    "\n",
    "\n",
    "\n",
    "# upload pipeline (IDempotent)\n",
    "pipeline_id = client.upload_pipeline(\n",
    "    pipeline_package_path=\"drift_demo.yaml\",\n",
    "    pipeline_name=\"drift-detect-demo\"\n",
    ").id\n",
    "\n",
    "# kick off a run\n",
    "run = client.create_run_from_pipeline_id(\n",
    "    pipeline_id=pipeline_id,\n",
    "    run_name=\"drift-demo-run\"\n",
    ")\n",
    "print(\"Run URL:\", f\"{client._get_url_prefix()}/#/runs/details/{run.run_id}\")\n",
    "\n"
   ]
  },
  {
   "cell_type": "code",
   "execution_count": null,
   "id": "94f33b0f-b470-494e-a273-5ed874329933",
   "metadata": {},
   "outputs": [],
   "source": [
    "# section2\n",
    "client = kfp.Client(host=\"http://45.149.207.13:38183/pipeline\")\n",
    "\n",
    "# 上传（第一次）或获取已上传 ID\n",
    "pipeline_id = client.upload_pipeline(\n",
    "    pipeline_package_path=\"drift_demo.yaml\",\n",
    "    pipeline_name=\"drift-detect-demo\"\n",
    ").id\n",
    "\n",
    "# 启动一次运行\n",
    "run = client.create_run_from_pipeline_id(\n",
    "    pipeline_id=pipeline_id,\n",
    "    run_name=\"drift-demo-run\"\n",
    ")\n",
    "print(\"Run URL:\",\n",
    "      f\"{client._get_url_prefix()}/#/runs/details/{run.run_id}\")\n"
   ]
  }
 ],
 "metadata": {
  "kernelspec": {
   "display_name": "Python 3 (ipykernel)",
   "language": "python",
   "name": "python3"
  },
  "language_info": {
   "codemirror_mode": {
    "name": "ipython",
    "version": 3
   },
   "file_extension": ".py",
   "mimetype": "text/x-python",
   "name": "python",
   "nbconvert_exporter": "python",
   "pygments_lexer": "ipython3",
   "version": "3.11.11"
  }
 },
 "nbformat": 4,
 "nbformat_minor": 5
}
